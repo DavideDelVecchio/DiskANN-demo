{
 "cells": [
  {
   "cell_type": "markdown",
   "id": "2d94cc27",
   "metadata": {},
   "source": [
    "\n",
    "# Comparing Word Embedding Approaches: From One-Hot Encoding to OpenAI Embeddings\n",
    "\n",
    "This notebook demonstrates and compares different word embedding approaches, ranging from simple one-hot encoding to advanced embeddings like OpenAI's.\n",
    "\n",
    "## Objectives\n",
    "1. Understand the evolution of word embeddings.\n",
    "2. Implement and compare:\n",
    "   - One-Hot Encoding\n",
    "   - Word2Vec\n",
    "   - GloVe\n",
    "   - BERT (contextual embeddings)\n",
    "   - OpenAI Embeddings\n",
    "3. Evaluate the embeddings on a semantic similarity task.\n",
    "    "
   ]
  },
  {
   "cell_type": "code",
   "execution_count": 1,
   "id": "9b922333",
   "metadata": {},
   "outputs": [
    {
     "name": "stdout",
     "output_type": "stream",
     "text": [
      "Defaulting to user installation because normal site-packages is not writeable\n",
      "Requirement already satisfied: gensim in c:\\users\\dadelve\\appdata\\local\\packages\\pythonsoftwarefoundation.python.3.12_qbz5n2kfra8p0\\localcache\\local-packages\\python312\\site-packages (4.3.3)\n",
      "Requirement already satisfied: numpy<2.0,>=1.18.5 in c:\\users\\dadelve\\appdata\\local\\packages\\pythonsoftwarefoundation.python.3.12_qbz5n2kfra8p0\\localcache\\local-packages\\python312\\site-packages (from gensim) (1.26.4)\n",
      "Requirement already satisfied: scipy<1.14.0,>=1.7.0 in c:\\users\\dadelve\\appdata\\local\\packages\\pythonsoftwarefoundation.python.3.12_qbz5n2kfra8p0\\localcache\\local-packages\\python312\\site-packages (from gensim) (1.13.1)\n",
      "Requirement already satisfied: smart-open>=1.8.1 in c:\\users\\dadelve\\appdata\\local\\packages\\pythonsoftwarefoundation.python.3.12_qbz5n2kfra8p0\\localcache\\local-packages\\python312\\site-packages (from gensim) (7.0.5)\n",
      "Requirement already satisfied: wrapt in c:\\users\\dadelve\\appdata\\local\\packages\\pythonsoftwarefoundation.python.3.12_qbz5n2kfra8p0\\localcache\\local-packages\\python312\\site-packages (from smart-open>=1.8.1->gensim) (1.17.0)\n",
      "Note: you may need to restart the kernel to use updated packages.\n",
      "Defaulting to user installation because normal site-packages is not writeable\n",
      "Requirement already satisfied: transformers in c:\\users\\dadelve\\appdata\\local\\packages\\pythonsoftwarefoundation.python.3.12_qbz5n2kfra8p0\\localcache\\local-packages\\python312\\site-packages (4.46.3)\n",
      "Requirement already satisfied: filelock in c:\\users\\dadelve\\appdata\\local\\packages\\pythonsoftwarefoundation.python.3.12_qbz5n2kfra8p0\\localcache\\local-packages\\python312\\site-packages (from transformers) (3.16.1)\n",
      "Requirement already satisfied: huggingface-hub<1.0,>=0.23.2 in c:\\users\\dadelve\\appdata\\local\\packages\\pythonsoftwarefoundation.python.3.12_qbz5n2kfra8p0\\localcache\\local-packages\\python312\\site-packages (from transformers) (0.26.3)\n",
      "Requirement already satisfied: numpy>=1.17 in c:\\users\\dadelve\\appdata\\local\\packages\\pythonsoftwarefoundation.python.3.12_qbz5n2kfra8p0\\localcache\\local-packages\\python312\\site-packages (from transformers) (1.26.4)\n",
      "Requirement already satisfied: packaging>=20.0 in c:\\users\\dadelve\\appdata\\local\\packages\\pythonsoftwarefoundation.python.3.12_qbz5n2kfra8p0\\localcache\\local-packages\\python312\\site-packages (from transformers) (24.0)\n",
      "Requirement already satisfied: pyyaml>=5.1 in c:\\users\\dadelve\\appdata\\local\\packages\\pythonsoftwarefoundation.python.3.12_qbz5n2kfra8p0\\localcache\\local-packages\\python312\\site-packages (from transformers) (6.0.2)\n",
      "Requirement already satisfied: regex!=2019.12.17 in c:\\users\\dadelve\\appdata\\local\\packages\\pythonsoftwarefoundation.python.3.12_qbz5n2kfra8p0\\localcache\\local-packages\\python312\\site-packages (from transformers) (2024.11.6)\n",
      "Requirement already satisfied: requests in c:\\users\\dadelve\\appdata\\local\\packages\\pythonsoftwarefoundation.python.3.12_qbz5n2kfra8p0\\localcache\\local-packages\\python312\\site-packages (from transformers) (2.32.2)\n",
      "Requirement already satisfied: tokenizers<0.21,>=0.20 in c:\\users\\dadelve\\appdata\\local\\packages\\pythonsoftwarefoundation.python.3.12_qbz5n2kfra8p0\\localcache\\local-packages\\python312\\site-packages (from transformers) (0.20.3)\n",
      "Requirement already satisfied: safetensors>=0.4.1 in c:\\users\\dadelve\\appdata\\local\\packages\\pythonsoftwarefoundation.python.3.12_qbz5n2kfra8p0\\localcache\\local-packages\\python312\\site-packages (from transformers) (0.4.5)\n",
      "Requirement already satisfied: tqdm>=4.27 in c:\\users\\dadelve\\appdata\\local\\packages\\pythonsoftwarefoundation.python.3.12_qbz5n2kfra8p0\\localcache\\local-packages\\python312\\site-packages (from transformers) (4.66.4)\n",
      "Requirement already satisfied: fsspec>=2023.5.0 in c:\\users\\dadelve\\appdata\\local\\packages\\pythonsoftwarefoundation.python.3.12_qbz5n2kfra8p0\\localcache\\local-packages\\python312\\site-packages (from huggingface-hub<1.0,>=0.23.2->transformers) (2024.9.0)\n",
      "Requirement already satisfied: typing-extensions>=3.7.4.3 in c:\\users\\dadelve\\appdata\\local\\packages\\pythonsoftwarefoundation.python.3.12_qbz5n2kfra8p0\\localcache\\local-packages\\python312\\site-packages (from huggingface-hub<1.0,>=0.23.2->transformers) (4.12.0)\n",
      "Requirement already satisfied: colorama in c:\\users\\dadelve\\appdata\\local\\packages\\pythonsoftwarefoundation.python.3.12_qbz5n2kfra8p0\\localcache\\local-packages\\python312\\site-packages (from tqdm>=4.27->transformers) (0.4.6)\n",
      "Requirement already satisfied: charset-normalizer<4,>=2 in c:\\users\\dadelve\\appdata\\local\\packages\\pythonsoftwarefoundation.python.3.12_qbz5n2kfra8p0\\localcache\\local-packages\\python312\\site-packages (from requests->transformers) (3.3.2)\n",
      "Requirement already satisfied: idna<4,>=2.5 in c:\\users\\dadelve\\appdata\\local\\packages\\pythonsoftwarefoundation.python.3.12_qbz5n2kfra8p0\\localcache\\local-packages\\python312\\site-packages (from requests->transformers) (3.7)\n",
      "Requirement already satisfied: urllib3<3,>=1.21.1 in c:\\users\\dadelve\\appdata\\local\\packages\\pythonsoftwarefoundation.python.3.12_qbz5n2kfra8p0\\localcache\\local-packages\\python312\\site-packages (from requests->transformers) (2.2.1)\n",
      "Requirement already satisfied: certifi>=2017.4.17 in c:\\users\\dadelve\\appdata\\local\\packages\\pythonsoftwarefoundation.python.3.12_qbz5n2kfra8p0\\localcache\\local-packages\\python312\\site-packages (from requests->transformers) (2024.2.2)\n",
      "Note: you may need to restart the kernel to use updated packages.\n",
      "Defaulting to user installation because normal site-packages is not writeable\n",
      "Requirement already satisfied: matplotlib in c:\\users\\dadelve\\appdata\\local\\packages\\pythonsoftwarefoundation.python.3.12_qbz5n2kfra8p0\\localcache\\local-packages\\python312\\site-packages (3.9.3)\n",
      "Requirement already satisfied: contourpy>=1.0.1 in c:\\users\\dadelve\\appdata\\local\\packages\\pythonsoftwarefoundation.python.3.12_qbz5n2kfra8p0\\localcache\\local-packages\\python312\\site-packages (from matplotlib) (1.3.1)\n",
      "Requirement already satisfied: cycler>=0.10 in c:\\users\\dadelve\\appdata\\local\\packages\\pythonsoftwarefoundation.python.3.12_qbz5n2kfra8p0\\localcache\\local-packages\\python312\\site-packages (from matplotlib) (0.12.1)\n",
      "Requirement already satisfied: fonttools>=4.22.0 in c:\\users\\dadelve\\appdata\\local\\packages\\pythonsoftwarefoundation.python.3.12_qbz5n2kfra8p0\\localcache\\local-packages\\python312\\site-packages (from matplotlib) (4.55.1)\n",
      "Requirement already satisfied: kiwisolver>=1.3.1 in c:\\users\\dadelve\\appdata\\local\\packages\\pythonsoftwarefoundation.python.3.12_qbz5n2kfra8p0\\localcache\\local-packages\\python312\\site-packages (from matplotlib) (1.4.7)\n",
      "Requirement already satisfied: numpy>=1.23 in c:\\users\\dadelve\\appdata\\local\\packages\\pythonsoftwarefoundation.python.3.12_qbz5n2kfra8p0\\localcache\\local-packages\\python312\\site-packages (from matplotlib) (1.26.4)\n",
      "Requirement already satisfied: packaging>=20.0 in c:\\users\\dadelve\\appdata\\local\\packages\\pythonsoftwarefoundation.python.3.12_qbz5n2kfra8p0\\localcache\\local-packages\\python312\\site-packages (from matplotlib) (24.0)\n",
      "Requirement already satisfied: pillow>=8 in c:\\users\\dadelve\\appdata\\local\\packages\\pythonsoftwarefoundation.python.3.12_qbz5n2kfra8p0\\localcache\\local-packages\\python312\\site-packages (from matplotlib) (10.4.0)\n",
      "Requirement already satisfied: pyparsing>=2.3.1 in c:\\users\\dadelve\\appdata\\local\\packages\\pythonsoftwarefoundation.python.3.12_qbz5n2kfra8p0\\localcache\\local-packages\\python312\\site-packages (from matplotlib) (3.2.0)\n",
      "Requirement already satisfied: python-dateutil>=2.7 in c:\\users\\dadelve\\appdata\\local\\packages\\pythonsoftwarefoundation.python.3.12_qbz5n2kfra8p0\\localcache\\local-packages\\python312\\site-packages (from matplotlib) (2.9.0.post0)\n",
      "Requirement already satisfied: six>=1.5 in c:\\users\\dadelve\\appdata\\local\\packages\\pythonsoftwarefoundation.python.3.12_qbz5n2kfra8p0\\localcache\\local-packages\\python312\\site-packages (from python-dateutil>=2.7->matplotlib) (1.16.0)\n",
      "Note: you may need to restart the kernel to use updated packages.\n",
      "Defaulting to user installation because normal site-packages is not writeable\n",
      "Requirement already satisfied: scikit-learn in c:\\users\\dadelve\\appdata\\local\\packages\\pythonsoftwarefoundation.python.3.12_qbz5n2kfra8p0\\localcache\\local-packages\\python312\\site-packages (1.5.2)\n",
      "Requirement already satisfied: numpy>=1.19.5 in c:\\users\\dadelve\\appdata\\local\\packages\\pythonsoftwarefoundation.python.3.12_qbz5n2kfra8p0\\localcache\\local-packages\\python312\\site-packages (from scikit-learn) (1.26.4)\n",
      "Requirement already satisfied: scipy>=1.6.0 in c:\\users\\dadelve\\appdata\\local\\packages\\pythonsoftwarefoundation.python.3.12_qbz5n2kfra8p0\\localcache\\local-packages\\python312\\site-packages (from scikit-learn) (1.13.1)\n",
      "Requirement already satisfied: joblib>=1.2.0 in c:\\users\\dadelve\\appdata\\local\\packages\\pythonsoftwarefoundation.python.3.12_qbz5n2kfra8p0\\localcache\\local-packages\\python312\\site-packages (from scikit-learn) (1.4.2)\n",
      "Requirement already satisfied: threadpoolctl>=3.1.0 in c:\\users\\dadelve\\appdata\\local\\packages\\pythonsoftwarefoundation.python.3.12_qbz5n2kfra8p0\\localcache\\local-packages\\python312\\site-packages (from scikit-learn) (3.5.0)\n",
      "Note: you may need to restart the kernel to use updated packages.\n",
      "Defaulting to user installation because normal site-packages is not writeable\n",
      "Requirement already satisfied: pytorch-lightning in c:\\users\\dadelve\\appdata\\local\\packages\\pythonsoftwarefoundation.python.3.12_qbz5n2kfra8p0\\localcache\\local-packages\\python312\\site-packages (2.4.0)\n",
      "Requirement already satisfied: torch>=2.1.0 in c:\\users\\dadelve\\appdata\\local\\packages\\pythonsoftwarefoundation.python.3.12_qbz5n2kfra8p0\\localcache\\local-packages\\python312\\site-packages (from pytorch-lightning) (2.5.1)\n",
      "Requirement already satisfied: tqdm>=4.57.0 in c:\\users\\dadelve\\appdata\\local\\packages\\pythonsoftwarefoundation.python.3.12_qbz5n2kfra8p0\\localcache\\local-packages\\python312\\site-packages (from pytorch-lightning) (4.66.4)\n",
      "Requirement already satisfied: PyYAML>=5.4 in c:\\users\\dadelve\\appdata\\local\\packages\\pythonsoftwarefoundation.python.3.12_qbz5n2kfra8p0\\localcache\\local-packages\\python312\\site-packages (from pytorch-lightning) (6.0.2)\n",
      "Requirement already satisfied: fsspec>=2022.5.0 in c:\\users\\dadelve\\appdata\\local\\packages\\pythonsoftwarefoundation.python.3.12_qbz5n2kfra8p0\\localcache\\local-packages\\python312\\site-packages (from fsspec[http]>=2022.5.0->pytorch-lightning) (2024.9.0)\n",
      "Requirement already satisfied: torchmetrics>=0.7.0 in c:\\users\\dadelve\\appdata\\local\\packages\\pythonsoftwarefoundation.python.3.12_qbz5n2kfra8p0\\localcache\\local-packages\\python312\\site-packages (from pytorch-lightning) (1.6.0)\n",
      "Requirement already satisfied: packaging>=20.0 in c:\\users\\dadelve\\appdata\\local\\packages\\pythonsoftwarefoundation.python.3.12_qbz5n2kfra8p0\\localcache\\local-packages\\python312\\site-packages (from pytorch-lightning) (24.0)\n",
      "Requirement already satisfied: typing-extensions>=4.4.0 in c:\\users\\dadelve\\appdata\\local\\packages\\pythonsoftwarefoundation.python.3.12_qbz5n2kfra8p0\\localcache\\local-packages\\python312\\site-packages (from pytorch-lightning) (4.12.0)\n",
      "Requirement already satisfied: lightning-utilities>=0.10.0 in c:\\users\\dadelve\\appdata\\local\\packages\\pythonsoftwarefoundation.python.3.12_qbz5n2kfra8p0\\localcache\\local-packages\\python312\\site-packages (from pytorch-lightning) (0.11.9)\n",
      "Requirement already satisfied: aiohttp!=4.0.0a0,!=4.0.0a1 in c:\\users\\dadelve\\appdata\\local\\packages\\pythonsoftwarefoundation.python.3.12_qbz5n2kfra8p0\\localcache\\local-packages\\python312\\site-packages (from fsspec[http]>=2022.5.0->pytorch-lightning) (3.9.5)\n",
      "Requirement already satisfied: setuptools in c:\\users\\dadelve\\appdata\\local\\packages\\pythonsoftwarefoundation.python.3.12_qbz5n2kfra8p0\\localcache\\local-packages\\python312\\site-packages (from lightning-utilities>=0.10.0->pytorch-lightning) (75.1.0)\n",
      "Requirement already satisfied: filelock in c:\\users\\dadelve\\appdata\\local\\packages\\pythonsoftwarefoundation.python.3.12_qbz5n2kfra8p0\\localcache\\local-packages\\python312\\site-packages (from torch>=2.1.0->pytorch-lightning) (3.16.1)\n",
      "Requirement already satisfied: networkx in c:\\users\\dadelve\\appdata\\local\\packages\\pythonsoftwarefoundation.python.3.12_qbz5n2kfra8p0\\localcache\\local-packages\\python312\\site-packages (from torch>=2.1.0->pytorch-lightning) (3.4.2)\n",
      "Requirement already satisfied: jinja2 in c:\\users\\dadelve\\appdata\\local\\packages\\pythonsoftwarefoundation.python.3.12_qbz5n2kfra8p0\\localcache\\local-packages\\python312\\site-packages (from torch>=2.1.0->pytorch-lightning) (3.1.4)\n",
      "Requirement already satisfied: sympy==1.13.1 in c:\\users\\dadelve\\appdata\\local\\packages\\pythonsoftwarefoundation.python.3.12_qbz5n2kfra8p0\\localcache\\local-packages\\python312\\site-packages (from torch>=2.1.0->pytorch-lightning) (1.13.1)\n",
      "Requirement already satisfied: mpmath<1.4,>=1.1.0 in c:\\users\\dadelve\\appdata\\local\\packages\\pythonsoftwarefoundation.python.3.12_qbz5n2kfra8p0\\localcache\\local-packages\\python312\\site-packages (from sympy==1.13.1->torch>=2.1.0->pytorch-lightning) (1.3.0)\n",
      "Requirement already satisfied: numpy>1.20.0 in c:\\users\\dadelve\\appdata\\local\\packages\\pythonsoftwarefoundation.python.3.12_qbz5n2kfra8p0\\localcache\\local-packages\\python312\\site-packages (from torchmetrics>=0.7.0->pytorch-lightning) (1.26.4)\n",
      "Requirement already satisfied: colorama in c:\\users\\dadelve\\appdata\\local\\packages\\pythonsoftwarefoundation.python.3.12_qbz5n2kfra8p0\\localcache\\local-packages\\python312\\site-packages (from tqdm>=4.57.0->pytorch-lightning) (0.4.6)\n",
      "Requirement already satisfied: aiosignal>=1.1.2 in c:\\users\\dadelve\\appdata\\local\\packages\\pythonsoftwarefoundation.python.3.12_qbz5n2kfra8p0\\localcache\\local-packages\\python312\\site-packages (from aiohttp!=4.0.0a0,!=4.0.0a1->fsspec[http]>=2022.5.0->pytorch-lightning) (1.3.1)\n",
      "Requirement already satisfied: attrs>=17.3.0 in c:\\users\\dadelve\\appdata\\local\\packages\\pythonsoftwarefoundation.python.3.12_qbz5n2kfra8p0\\localcache\\local-packages\\python312\\site-packages (from aiohttp!=4.0.0a0,!=4.0.0a1->fsspec[http]>=2022.5.0->pytorch-lightning) (23.2.0)\n",
      "Requirement already satisfied: frozenlist>=1.1.1 in c:\\users\\dadelve\\appdata\\local\\packages\\pythonsoftwarefoundation.python.3.12_qbz5n2kfra8p0\\localcache\\local-packages\\python312\\site-packages (from aiohttp!=4.0.0a0,!=4.0.0a1->fsspec[http]>=2022.5.0->pytorch-lightning) (1.4.1)\n",
      "Requirement already satisfied: multidict<7.0,>=4.5 in c:\\users\\dadelve\\appdata\\local\\packages\\pythonsoftwarefoundation.python.3.12_qbz5n2kfra8p0\\localcache\\local-packages\\python312\\site-packages (from aiohttp!=4.0.0a0,!=4.0.0a1->fsspec[http]>=2022.5.0->pytorch-lightning) (6.0.5)\n",
      "Requirement already satisfied: yarl<2.0,>=1.0 in c:\\users\\dadelve\\appdata\\local\\packages\\pythonsoftwarefoundation.python.3.12_qbz5n2kfra8p0\\localcache\\local-packages\\python312\\site-packages (from aiohttp!=4.0.0a0,!=4.0.0a1->fsspec[http]>=2022.5.0->pytorch-lightning) (1.9.4)\n",
      "Requirement already satisfied: MarkupSafe>=2.0 in c:\\users\\dadelve\\appdata\\local\\packages\\pythonsoftwarefoundation.python.3.12_qbz5n2kfra8p0\\localcache\\local-packages\\python312\\site-packages (from jinja2->torch>=2.1.0->pytorch-lightning) (3.0.1)\n",
      "Requirement already satisfied: idna>=2.0 in c:\\users\\dadelve\\appdata\\local\\packages\\pythonsoftwarefoundation.python.3.12_qbz5n2kfra8p0\\localcache\\local-packages\\python312\\site-packages (from yarl<2.0,>=1.0->aiohttp!=4.0.0a0,!=4.0.0a1->fsspec[http]>=2022.5.0->pytorch-lightning) (3.7)\n",
      "Note: you may need to restart the kernel to use updated packages.\n"
     ]
    }
   ],
   "source": [
    "%pip install gensim\n",
    "%pip install transformers\n",
    "%pip install matplotlib\n",
    "%pip install scikit-learn\n",
    "%pip install pytorch-lightning"
   ]
  },
  {
   "cell_type": "code",
   "execution_count": 3,
   "id": "cce4fdcb",
   "metadata": {},
   "outputs": [],
   "source": [
    "\n",
    "# Import required libraries\n",
    "import numpy as np\n",
    "import matplotlib.pyplot as plt\n",
    "from sklearn.decomposition import PCA\n",
    "from sklearn.manifold import TSNE\n",
    "from gensim.models import Word2Vec\n",
    "from transformers import pipeline\n",
    "\n",
    "# Example sentences\n",
    "sentences = [\n",
    "    \"I love natural language processing\",\n",
    "    \"Deep learning is a key technology for AI\",\n",
    "    \"Word embeddings capture semantic meaning\",\n",
    "    \"OpenAI embeddings are state-of-the-art\",\n",
    "    \"Machine learning is evolving rapidly\"\n",
    "]\n",
    "\n",
    "# Tokenize sentences into words for embedding methods\n",
    "tokenized_sentences = [sentence.lower().split() for sentence in sentences]\n",
    "    "
   ]
  },
  {
   "cell_type": "markdown",
   "id": "6b8b82d0",
   "metadata": {},
   "source": [
    "\n",
    "## 1. One-Hot Encoding\n",
    "\n",
    "One-hot encoding represents each word as a unique binary vector. However, it does not capture any semantic relationships between words.\n",
    "    "
   ]
  },
  {
   "cell_type": "code",
   "execution_count": 4,
   "id": "f8b1b49d",
   "metadata": {},
   "outputs": [
    {
     "name": "stdout",
     "output_type": "stream",
     "text": [
      "Vocabulary: ['a', 'ai', 'are', 'capture', 'deep', 'embeddings', 'evolving', 'for', 'i', 'is', 'key', 'language', 'learning', 'love', 'machine', 'meaning', 'natural', 'openai', 'processing', 'rapidly', 'semantic', 'state-of-the-art', 'technology', 'word']\n",
      "One-Hot Encoding Example: [0. 0. 0. 0. 0. 0. 0. 0. 0. 0. 0. 0. 1. 0. 0. 0. 0. 0. 0. 0. 0. 0. 0. 0.]\n"
     ]
    }
   ],
   "source": [
    "\n",
    "# One-Hot Encoding\n",
    "vocabulary = sorted(set(word for sentence in tokenized_sentences for word in sentence))\n",
    "one_hot_vectors = {word: np.eye(len(vocabulary))[i] for i, word in enumerate(vocabulary)}\n",
    "\n",
    "# Display one-hot encoding for a few words\n",
    "print(\"Vocabulary:\", vocabulary)\n",
    "print(\"One-Hot Encoding Example:\", one_hot_vectors['learning'])\n",
    "    "
   ]
  },
  {
   "cell_type": "markdown",
   "id": "76540280",
   "metadata": {},
   "source": [
    "\n",
    "## 2. Word2Vec\n",
    "\n",
    "Word2Vec learns embeddings by predicting the context of a word within a sliding window. It captures semantic relationships like synonyms.\n",
    "    "
   ]
  },
  {
   "cell_type": "code",
   "execution_count": 5,
   "id": "a911c200",
   "metadata": {},
   "outputs": [
    {
     "name": "stdout",
     "output_type": "stream",
     "text": [
      "Word2Vec Embedding Example (learning): [-0.00536227  0.00236431  0.0510335   0.09009273 -0.0930295  -0.07116809\n",
      "  0.06458873  0.08972988 -0.05015428 -0.03763372]\n"
     ]
    }
   ],
   "source": [
    "\n",
    "# Train Word2Vec model\n",
    "word2vec_model = Word2Vec(sentences=tokenized_sentences, vector_size=10, window=2, min_count=1, workers=1, sg=1)\n",
    "word2vec_vectors = {word: word2vec_model.wv[word] for word in vocabulary}\n",
    "\n",
    "# Display Word2Vec embeddings for a few words\n",
    "print(\"Word2Vec Embedding Example (learning):\", word2vec_vectors['learning'])\n",
    "    "
   ]
  },
  {
   "cell_type": "markdown",
   "id": "0ebf738b",
   "metadata": {},
   "source": [
    "\n",
    "## 3. GloVe\n",
    "\n",
    "GloVe uses matrix factorization to learn embeddings that capture global co-occurrence statistics of words in a corpus.\n",
    "    "
   ]
  },
  {
   "cell_type": "code",
   "execution_count": 6,
   "id": "2cdb8261",
   "metadata": {},
   "outputs": [
    {
     "name": "stdout",
     "output_type": "stream",
     "text": [
      "GloVe Embedding Example (learning): [0.24667367 0.77424196 0.23182241 0.59957729 0.4058091  0.41627447\n",
      " 0.28488116 0.64496648 0.83806805 0.6268004 ]\n"
     ]
    }
   ],
   "source": [
    "\n",
    "# Simulating GloVe by loading pre-trained vectors (example placeholder)\n",
    "# In practice, you can download GloVe vectors and load them here\n",
    "glove_vectors = {word: np.random.rand(10) for word in vocabulary}\n",
    "print(\"GloVe Embedding Example (learning):\", glove_vectors['learning'])\n",
    "    "
   ]
  },
  {
   "cell_type": "markdown",
   "id": "84377127",
   "metadata": {},
   "source": [
    "\n",
    "## 4. BERT (Contextual Embeddings)\n",
    "\n",
    "BERT generates contextual embeddings, meaning the same word can have different embeddings depending on its context.\n",
    "    "
   ]
  },
  {
   "cell_type": "code",
   "execution_count": 7,
   "id": "3693370f",
   "metadata": {},
   "outputs": [
    {
     "name": "stderr",
     "output_type": "stream",
     "text": [
      "C:\\Users\\dadelve\\AppData\\Local\\Packages\\PythonSoftwareFoundation.Python.3.12_qbz5n2kfra8p0\\LocalCache\\local-packages\\Python312\\site-packages\\huggingface_hub\\file_download.py:139: UserWarning: `huggingface_hub` cache-system uses symlinks by default to efficiently store duplicated files but your machine does not support them in C:\\Users\\dadelve\\.cache\\huggingface\\hub\\models--bert-base-uncased. Caching files will still work but in a degraded version that might require more space on your disk. This warning can be disabled by setting the `HF_HUB_DISABLE_SYMLINKS_WARNING` environment variable. For more details, see https://huggingface.co/docs/huggingface_hub/how-to-cache#limitations.\n",
      "To support symlinks on Windows, you either need to activate Developer Mode or to run Python as an administrator. In order to activate developer mode, see this article: https://docs.microsoft.com/en-us/windows/apps/get-started/enable-your-device-for-development\n",
      "  warnings.warn(message)\n"
     ]
    },
    {
     "name": "stdout",
     "output_type": "stream",
     "text": [
      "BERT Embedding Shape (first word): (768,)\n"
     ]
    }
   ],
   "source": [
    "\n",
    "# Use BERT for embeddings\n",
    "bert_pipeline = pipeline('feature-extraction', model='bert-base-uncased', tokenizer='bert-base-uncased')\n",
    "\n",
    "# Generate embeddings for a sentence\n",
    "bert_embedding = bert_pipeline(\"Deep learning is a key technology for AI\")[0]\n",
    "print(\"BERT Embedding Shape (first word):\", np.array(bert_embedding[1]).shape)\n",
    "    "
   ]
  },
  {
   "cell_type": "markdown",
   "id": "14b5f01e",
   "metadata": {},
   "source": [
    "\n",
    "## 5. OpenAI Embeddings\n",
    "\n",
    "OpenAI embeddings provide state-of-the-art representations using their advanced models.\n",
    "    "
   ]
  },
  {
   "cell_type": "code",
   "execution_count": 8,
   "id": "4150e07d",
   "metadata": {},
   "outputs": [
    {
     "name": "stdout",
     "output_type": "stream",
     "text": [
      "cannot find .env file\n"
     ]
    }
   ],
   "source": [
    "%load_ext dotenv\n",
    "%dotenv"
   ]
  },
  {
   "cell_type": "code",
   "execution_count": 18,
   "id": "32df35a0",
   "metadata": {},
   "outputs": [
    {
     "name": "stdout",
     "output_type": "stream",
     "text": [
      "OpenAI Embedding Example (simulated): [-0.008931445889174938, 0.003937659319490194, 0.01644168235361576, -0.01835835725069046, -0.004455943591892719, 0.015033513307571411, -0.019440561532974243, 0.016141794621944427, -0.0014611388323828578, -0.021930936723947525, 0.020926963537931442, 0.04360109940171242, 0.010541713796555996, -0.002995619783177972, -0.01961006410419941, 0.006877864710986614, 0.026272792369127274, 0.0052121831104159355, 0.009857186116278172, -0.012732199393212795, -0.03223143517971039, 0.012275847606360912, 0.019975144416093826, -0.02745930477976799, -0.010945910587906837, 0.004902516026049852, 0.01730223000049591, -0.03955913335084915, -0.015581134706735611, -0.01788896881043911, 0.03363960608839989, -0.008325150236487389, -0.004273403435945511, -0.007621065713465214, -0.0003041662566829473, -0.013331974856555462, 0.0041984315030276775, -0.007405928336083889, 0.018019353970885277, 0.015463787131011486, 0.023534685373306274, 0.01863216795027256, -0.0011001324746757746, -0.036847103387117386, -0.013286340050399303, 0.004821024835109711, -0.0035758379381150007, -0.01738046295940876, -0.006366099696606398, 0.009759397245943546, 0.011043699458241463, 0.03901151195168495, 0.0015515941195189953, -0.01537251751869917, -0.03335275501012802, 0.011011103168129921, -0.01961006410419941, 0.012862585484981537, 0.026859529316425323, 0.005984720308333635, 0.0069821737706661224, -0.029050014913082123, -0.007836202159523964, 0.027250686660408974, -0.003980034496635199, 0.010170113295316696, -0.019818682223558426, 0.049155548214912415, 0.02902393788099289, -0.0041984315030276775, 0.014564123004674911, 0.004152796231210232, -0.010359172709286213, -0.003215646371245384, 0.0017162065487354994, 0.007125598378479481, 0.00702128978446126, -0.0030331057496368885, -0.005397982895374298, -0.00968768447637558, -0.009492105804383755, -0.010809005238115788, 0.011826016008853912, 0.004325557500123978, 0.034161150455474854, 0.0010879087494686246, -0.019231945276260376, 0.0005288784741424024, 0.0065877558663487434, -0.002834266982972622, -0.0027592950500547886, -0.0037485994398593903, 0.01738046295940876, 0.03577793762087822, -0.047121524810791016, 0.022817561402916908, 0.02047061175107956, 0.002583273919299245, 0.0008185800397768617, -0.016884995624423027, -0.012119384482502937, -0.0004156055802013725, -0.01284954696893692, -0.019153712317347527, -0.00397351523861289, 0.0023616175167262554, 0.0008801059448160231, 0.02331302873790264, 0.019779566675424576, -0.002285015769302845, -0.0002748293918557465, 0.029206478968262672, -0.00411042058840394, -0.03421330451965332, -0.014759702607989311, -0.002012834884226322, 0.0036638483870774508, 0.00037058163434267044, -0.00011154120147693902, -0.019583987072110176, 0.03077111206948757, 0.009459508582949638, 0.016624223440885544, -0.006434552371501923, 0.015463787131011486, 0.016898034140467644, -0.016467759385704994, -0.02949332818388939, 0.008696750737726688, -0.012432311661541462, 0.03679494932293892, -0.0030151777900755405, 0.016311297193169594, 0.005922786891460419, -0.02683345228433609, -0.007881837897002697, 0.0019280839478597045, -0.0037257818039506674, -0.01925802230834961, -0.009016196243464947, -0.006574717350304127, 0.009055311791598797, -0.012334521859884262, -0.014251196756958961, -0.003921360708773136, 0.017015380784869194, -0.00917917862534523, 0.025334011763334274, 0.007340735290199518, 0.002081287559121847, -0.024303963407874107, -0.03215320408344269, -0.014837934635579586, 0.022009167820215225, 0.009915860369801521, 0.009270449168980122, 0.018566975370049477, 0.015085667371749878, 0.007640623487532139, 0.007966588251292706, -0.00359865534119308, -0.005163288209587336, -0.00914006307721138, 9.346032311441377e-05, 0.03768157213926315, 0.02378241904079914, 0.005681572947651148, 0.008325150236487389, 0.00790791492909193, 0.005261077545583248, -0.0008393602911382914, 0.015711521729826927, -0.006493226159363985, 0.005772843025624752, 0.006555159576237202, -0.012823469936847687, 0.017563002184033394, -0.013012529350817204, -0.027746153995394707, -0.009544259868562222, 0.01882774755358696, 0.007875318638980389, 0.011721706949174404, -0.001290822052396834, 0.004987266846001148, 0.014707548543810844, 0.018919017165899277, -0.007366812787950039, -0.009655088186264038, -0.00688438443467021, 0.023847611621022224, 0.008833656087517738, -0.017367424443364143, -0.017015380784869194, -0.668411135673523, -0.026351023465394974, 0.006897422950714827, -0.006167260929942131, 0.014172965660691261, 0.004586329683661461, -0.008559845387935638, -0.01019619032740593, 0.015959253534674644, 0.020014261826872826, 0.006144443526864052, -0.014981359243392944, -0.02172231860458851, -0.0004836508014705032, 0.015724560245871544, -0.019623102620244026, 0.020679229870438576, -0.024317001923918724, 0.01691107265651226, 0.032909441739320755, -0.01749780960381031, 0.02313048765063286, -0.012588774785399437, 0.00910094752907753, -0.020835693925619125, 0.0008882550755515695, -0.003641030751168728, 0.008116532117128372, -0.012445350177586079, 0.015203014947474003, -0.017641235142946243, 0.012471427209675312, 0.017210960388183594, 0.01161739882081747, 0.03215320408344269, 0.009192217141389847, -0.010026688687503338, 0.03074503503739834, -0.0006780075491406024, 0.026064174249768257, -0.014603239484131336, -0.0005798105266876519, -0.0026435775216668844, 0.001190587761811912, -0.005003565456718206, 0.011076296679675579, 0.012060711160302162, -0.014068656601011753, -0.007066924590617418, -0.007516756653785706, 0.004244066309183836, -0.005208923481404781, -0.0016518284101039171, -0.0031080779153853655, 0.0006462259334512055, 0.011728226207196712, 0.02303921803832054, -0.013253743760287762, 0.019557910040020943, -0.02491677738726139, -0.005541407968848944, -0.006398695986717939, -0.036925334483385086, -0.012686564587056637, -0.03272690251469612, 0.009166140109300613, -0.008696750737726688, 0.009361719712615013, 0.0071712336502969265, -0.02413446083664894, 0.026181522756814957, 0.013208108022809029, 0.017719466239213943, -0.0071712336502969265, 0.010424366220831871, 0.036455944180488586, 0.03129265457391739, -0.016845880076289177, -0.020248955115675926, 0.005857593845576048, 0.0009021086152642965, -0.019557910040020943, 0.015333401039242744, -0.006988693028688431, 0.016376489773392677, -0.004504838492721319, 0.005864113103598356, -0.03277905657887459, 0.00845553632825613, -0.007640623487532139, 0.003983294125646353, 0.0058315168134868145, -0.022322094067931175, -0.05366690456867218, 0.016545992344617844, 0.016506874933838844, -0.0008303962531499565, -0.00038056433550082147, 0.002027503214776516, -0.01431639026850462, -0.022243862971663475, 0.001755322446115315, 0.013703575357794762, 0.023052256554365158, 0.026494449004530907, 0.011806458234786987, 0.01161739882081747, -0.0009485586197115481, 0.024825505912303925, -0.014472853392362595, -0.021474584937095642, -0.003996333107352257, -0.02433004043996334, 0.014459814876317978, -0.0036834063939750195, -0.025516552850604057, -0.008331669494509697, 0.0006062951870262623, 0.011702149175107479, -0.016884995624423027, 0.03066680207848549, -0.006773556116968393, -0.005221961997449398, -0.004902516026049852, -0.01023530587553978, -0.003898543305695057, -0.027198532596230507, -0.004612407181411982, -0.02565997838973999, -0.004107160959392786, 0.006046653725206852, -0.018932057544589043, 0.01228236686438322, 0.00025995721807703376, 0.023365182802081108, 0.005583783145993948, 0.009459508582949638, -0.007132117636501789, -0.00890536792576313, 0.0008915147045627236, -0.010176632553339005, 0.007555872667580843, 0.018723439425230026, 0.009218295104801655, -0.027511458843946457, -0.012360598891973495, -0.01288866251707077, 0.007894876413047314, -0.021591931581497192, -0.040211062878370285, -0.008449017070233822, -0.007712335791438818, -0.011063257232308388, 0.022322094067931175, 0.01640256680548191, 0.01698930375277996, -0.009074870496988297, -0.008266476914286613, -0.01741957850754261, -0.03914189711213112, -0.0024561474565416574, 0.021357238292694092, -0.00480472669005394, 0.01349495816975832, 0.005287155043333769, -0.024695120751857758, 0.007536314427852631, 0.036847103387117386, -0.03979382663965225, -0.02094000205397606, -0.005274116527289152, -0.02039238065481186, 0.009831109084188938, 0.018188856542110443, -0.006525822449475527, 0.02148762345314026, -0.027902618050575256, -0.0006661912775598466, 0.018410513177514076, -0.013833961449563503, -0.002700621262192726, 0.007797086611390114, 0.005375165492296219, -0.00702128978446126, 0.04008067771792412, 0.007425486575812101, 0.026155443862080574, 0.013110319152474403, -0.0037551186978816986, 0.01431639026850462, 0.001004787627607584, 0.044931039214134216, -0.004912294913083315, 0.003003769088536501, 0.012784353457391262, 0.0048862178809940815, 0.008911887183785439, -0.002237750915810466, 0.018371395766735077, 0.024121422320604324, 0.010144036263227463, 0.0018172557465732098, 0.015085667371749878, 0.0034324130974709988, 0.008898848667740822, 0.006049913354218006, -0.005704390350729227, -0.02221778593957424, -0.005404502619057894, -0.003764897584915161, 0.015841906890273094, 0.00818172562867403, 0.007216868922114372, -0.02468208223581314, -0.008435978554189205, 0.034474074840545654, -0.010222267359495163, 0.003254762152209878, -0.03262259438633919, 0.005381684750318527, 0.014485891908407211, -0.008533768355846405, 0.01698930375277996, -0.01882774755358696, 0.0055055515840649605, 0.016102679073810577, 0.0016664968570694327, 0.013090761378407478, 0.0066888052970170975, -0.05606600642204285, -0.005991239566355944, 0.02300010249018669, 0.0026044617407023907, 0.0006568197859451175, -0.006082510109990835, -0.0020649894140660763, 0.01702841930091381, -0.016806764528155327, 0.027798309922218323, -0.006910461466759443, 0.004504838492721319, 0.011317510157823563, 0.018032392486929893, -0.025438321754336357, 0.018775593489408493, 0.01984475925564766, 0.04620882123708725, 0.0010219007963314652, -0.030406029894948006, 0.008657634258270264, -0.022413363680243492, -0.004410308785736561, -0.016141794621944427, 0.0049057756550610065, -0.0006710807792842388, -0.016702454537153244, 0.014877050183713436, -0.002969542518258095, 0.011630437336862087, 0.011337067931890488, 0.0014529897598549724, 0.02440827153623104, 0.004537435248494148, 0.0037714168429374695, 0.00046653763274662197, -0.006033615209162235, 0.01517693791538477, 0.008703269995748997, -0.013279820792376995, -0.005652235820889473, -0.011826016008853912, -0.011487012729048729, 0.004123459104448557, -0.037081796675920486, 0.02691168338060379, 0.0065877558663487434, 0.016350412741303444, 0.00605317298322916, -0.009707242250442505, 0.023638993501663208, -0.021187735721468925, -0.03650809824466705, 0.004394010175019503, 0.013175511732697487, -0.011324029415845871, -0.016063563525676727, -0.026181522756814957, 0.019792605191469193, -0.014694509096443653, -0.012471427209675312, -0.007738412823528051, 0.010502597317099571, -0.017510848119854927, 0.0033998165745288134, -0.019153712317347527, -0.014264235273003578, 0.028137313202023506, -0.00226545799523592, -0.006001018453389406, -0.011174085550010204, 0.00253926869481802, 0.01976652815937996, -0.03207497298717499, -0.04347071424126625, 0.017471732571721077, -0.017119690775871277, -0.0008079861290752888, 0.028580624610185623, -0.013442803174257278, -0.007940511219203472, 0.0022540490608662367, -0.010795965790748596, 0.006672506686300039, -0.006806152407079935, 0.010443923994898796, 0.02121381275355816, 0.0030542935710400343, 0.011258836835622787, 0.025920750573277473, 0.027407150715589523, -0.0011962921125814319, -0.012334521859884262, 0.0015793011989444494, 0.009407354518771172, 0.09434735774993896, 0.025959866121411324, -0.018227972090244293, 0.0076536620035767555, -0.020835693925619125, -0.0045113577507436275, -0.029623713344335556, -0.003003769088536501, 0.023599877953529358, -0.008977080695331097, -0.0036051745992153883, 0.00917917862534523, -0.004684119485318661, -0.012275847606360912, 0.005935825407505035, 0.02444738708436489, 0.01651991531252861, -0.004746052902191877, -0.008475094102323055, -0.008814098313450813, -0.009081389755010605, 0.010822043754160404, 0.0056261587888002396, -0.0010357543360441923, 0.016884995624423027, -0.013390649110078812, 0.014238158240914345, 0.037864115089178085, -0.01577671431005001, 0.0020226137712597847, 0.011187124066054821, 0.024303963407874107, 0.0042668841779232025, 0.010750330984592438, -0.024108383804559708, 0.026781298220157623, 0.0011498421663418412, 0.02800692617893219, 0.0010569420410320163, -0.0038952836766839027, 0.011799938976764679, 0.023326067253947258, -0.004025669768452644, -0.018775593489408493, -0.005492513068020344, -0.01925802230834961, 0.003416114952415228, 0.02831985242664814, -0.019792605191469193, -0.04600020498037338, 0.007405928336083889, 0.006323724053800106, -0.05108525976538658, -0.0018889681668952107, 0.018645206466317177, 0.02511235699057579, 0.008123052306473255, -0.0037942344788461924, -0.0035627991892397404, -0.023195680230855942, -0.019779566675424576, -0.03559539467096329, -0.013305897824466228, -0.022061321884393692, 0.013390649110078812, -0.013325455598533154, -3.605989695643075e-05, -0.012940816581249237, -0.026729144155979156, 0.023339105769991875, 0.002998879412189126, -0.02421269193291664, -0.04850361496210098, -0.005688092205673456, -0.0047167157754302025, 0.01714576780796051, 0.014238158240914345, -0.012908220291137695, -0.012953855097293854, 0.01353407371789217, 0.016272181645035744, -0.013006010092794895, -0.001660792506299913, -0.002237750915810466, -0.005485993809998035, -0.013455841690301895, -0.014564123004674911, -0.02160497009754181, 0.0019052664283663034, -0.0006959356251172721, 0.02374330163002014, -0.0051991441287100315, 0.020418457686901093, 0.03288336470723152, 0.003833350259810686, -0.003135784761980176, 0.02316960319876671, 0.0033036568202078342, -0.005560965742915869, -0.027876541018486023, 0.008716308511793613, -0.02636406198143959, -0.03465661779046059, -0.00972680002450943, 0.005072018131613731, -0.0028929407708346844, 0.019870836287736893, 0.005978201050311327, 0.019818682223558426, 0.0009795252699404955, 0.017197921872138977, 0.006995212286710739, 0.01376876886934042, -0.01521605346351862, 0.0003681369125843048, -0.002446368569508195, 0.011271875351667404, -0.007099521346390247, 0.004012631252408028, -0.00859244167804718, 0.00859244167804718, -0.03710787370800972, 0.017706427723169327, 0.015907099470496178, -0.005838036071509123, 0.010450443252921104, 0.018658244982361794, -0.004169094376266003, -0.040445756167173386, 0.010176632553339005, 0.002451258013024926, 0.005583783145993948, -0.0002837934298440814, -0.021396353840827942, -0.008168687112629414, -0.01808454655110836, -0.012432311661541462, 0.005678313318639994, -0.034395843744277954, -0.01964917965233326, -0.011852093040943146, 0.0058999694883823395, 0.014877050183713436, -0.030327798798680305, 0.02011856995522976, -0.030379952862858772, 0.005619639530777931, 0.008501171134412289, 0.023495569825172424, 0.02800692617893219, -0.019505755975842476, 0.007510237395763397, -0.00945298932492733, -0.014785779640078545, -0.020170724019408226, -0.008983599953353405, 0.009113986045122147, -0.00623897323384881, 0.047982070595026016, 0.028137313202023506, 0.040915146470069885, -0.013716613873839378, 0.030640725046396255, 0.014655393548309803, -0.0051437304355204105, -0.02019680105149746, 0.020170724019408226, 0.0010023429058492184, -0.014446776360273361, -0.0056261587888002396, 0.005414281506091356, -0.0008185800397768617, 0.020183762535452843, -0.002907609334215522, 0.031657736748456955, 0.007386370562016964, 0.0013168992009013891, -0.018697362393140793, -0.025594783946871758, -0.02507323957979679, -0.024903738871216774, 0.019714372232556343, 0.01415992621332407, 0.022400325164198875, -0.012829989194869995, 0.017523886635899544, 0.016624223440885544, 0.01804543100297451, 0.014264235273003578, -0.005202404223382473, 0.03343098610639572, -0.0012957114959135652, -0.0012867475161328912, 0.030406029894948006, -0.003931140061467886, -0.04553081467747688, -0.014498930424451828, -0.026116328313946724, -0.0032368339598178864, 0.03160558268427849, 0.0057435063645243645, 0.01988387480378151, 0.01517693791538477, 0.018892940133810043, -0.014446776360273361, 0.006825710646808147, -0.009153101593255997, -0.018501782789826393, -0.007960068993270397, -0.038802891969680786, 0.0073602935299277306, -0.04018498584628105, -0.026025058701634407, -0.029310787096619606, 0.0054370989091694355, 0.006949577480554581, -0.020366303622722626, 0.020913925021886826, -0.01702841930091381, -0.02035326510667801, 0.021970052272081375, 0.019975144416093826, 0.039663441479206085, -0.008742385543882847, 0.023326067253947258, 0.02389976568520069, 0.009498625062406063, -0.005339309573173523, -0.007862280122935772, 0.0011726596858352423, -0.007177752908319235, 0.02636406198143959, 0.012992971576750278, -0.013208108022809029, -0.01683284156024456, 0.0073602935299277306, 0.00845553632825613, -0.004824284464120865, -0.04516573250293732, 0.011728226207196712, -0.006147703155875206, 0.0014016502536833286, -0.00702128978446126, -0.021279005333781242, -0.018736477941274643, 0.013755729421973228, -0.018879901617765427, 0.012660486623644829, -0.016493836417794228, -0.018566975370049477, -0.0011808087583631277, 0.0011897728545591235, -0.017915045842528343, 0.010144036263227463, -0.013951309025287628, 0.005551186855882406, 0.004094122443348169, -0.006066211499273777, 0.022674135863780975, -0.016937149688601494, -0.007842721417546272, 0.019949067384004593, -0.0052317408844828606, 0.01105673797428608, 0.01847570575773716, 0.008364265784621239, 0.0069821737706661224, -0.007966588251292706, -0.010639502666890621, 0.034161150455474854, -0.02769399993121624, -0.03051033988595009, -0.0008075786754488945, -0.014433737844228745, 0.013429764658212662, -0.04088906943798065, -0.01189120952039957, 0.005290414672344923, -0.008709789253771305, -0.00872934702783823, 0.01612875610589981, -0.009322603233158588, -0.005495772697031498, 0.01349495816975832, 0.010724253952503204, -0.027250686660408974, 0.016376489773392677, 0.006330243311822414, 0.011636956594884396, -0.01984475925564766, -0.008625037968158722, 0.017002342268824577, -0.0010569420410320163, -0.014186004176735878, 0.008546806871891022, -0.008918406441807747, -0.00919873733073473, 0.02019680105149746, -0.019518794491887093, 0.0032433534506708384, 0.004729754291474819, 0.01953183300793171, -0.006773556116968393, 0.013507996685802937, -0.009309564717113972, -0.009218295104801655, 0.026116328313946724, -0.016845880076289177, 0.004400529898703098, -0.004289701581001282, -0.009107466787099838, 0.010828563012182713, -0.008136090822517872, 0.009342161938548088, -0.011526128277182579, 0.009166140109300613, 0.003008658532053232, -0.0022263419814407825, -0.0008218396687880158, 0.012627890333533287, -0.006753998342901468, -0.01459020096808672, 0.022700214758515358, -0.03246612846851349, -0.013481918722391129, -0.007321177516132593, 0.006988693028688431, -0.004661301616579294, -0.044279105961322784, -0.0027967810165137053, -0.013325455598533154, 0.02605113573372364, -0.01624610461294651, -0.004139757715165615, 0.0037094836588948965, 0.01228236686438322, -0.030093103647232056, -0.010483039543032646, -0.003438932355493307, -0.015059590339660645, 0.007757971063256264, 0.01173474546521902, 0.0011816236656159163, -0.017210960388183594, -0.006610573269426823, -0.02456473372876644, -0.015620250254869461, -0.01228236686438322, -0.02350860834121704, 0.001271264161914587, -0.024890700355172157, 0.024473464116454124, 0.005880411714315414, -0.021970052272081375, -0.010489558801054955, -0.01695018820464611, -0.03507385030388832, -8.490373875247315e-05, -0.018267087638378143, -0.0038268310017883778, -0.004051746800541878, 0.017563002184033394, 0.00022369359794538468, 0.008755424059927464, -0.007888357155025005, 0.010626464150846004, -0.0007713150698691607, 0.013560150749981403, -0.01773250475525856, -0.013899154961109161, 0.0025506773963570595, 0.0005044310819357634, -0.011187124066054821, -0.00337373954243958, 0.016102679073810577, -0.009518182836472988, -0.011206681840121746, 0.024734236299991608, -0.015189976431429386, 0.0033835184294730425, -0.012080268934369087, 0.0022719772532582283, -0.007614545989781618, 0.017719466239213943, 0.005945604760199785, -0.023091372102499008, -0.0013128246646374464, 0.00601405743509531, -0.007797086611390114, -0.013794845901429653, 0.010287460871040821, 0.011258836835622787, 0.01710665225982666, -0.004827544093132019, -0.013964347541332245, 0.015307324007153511, -0.00378445559181273, -0.01494224276393652, 0.012973413802683353, -0.00494163203984499, 0.008931445889174938, 0.021187735721468925, 0.022400325164198875, -0.0019509014673531055, -0.01632433570921421, -0.002332280622795224, -0.0070147705264389515, -0.014029541052877903, -0.013729652389883995, -0.019623102620244026, 0.0011971070198342204, -0.029154324904084206, 0.02078353799879551, -0.01722399890422821, 0.005750025622546673, -0.023495569825172424, 0.007699297275394201, -0.024343078956007957, 0.01284954696893692, -0.01517693791538477, -0.005994499195367098, 0.004367933142930269, -0.0032058674842119217, 0.003950697835534811, -0.030406029894948006, -0.01284954696893692, 0.011663033626973629, -0.015802791342139244, -0.008755424059927464, 0.009485586546361446, -0.015359478071331978, -0.015268208459019661, 0.013429764658212662, 0.014733625575900078, -0.015633288770914078, 0.0049057756550610065, 0.21571069955825806, -0.019636141136288643, -0.009113986045122147, 0.0033541815355420113, -0.0003648772544693202, 0.007086482830345631, 0.04362717643380165, -0.0027560354210436344, -0.005189365241676569, -0.005541407968848944, 0.020209839567542076, 0.006265050265938044, -0.03186635300517082, -0.0017194661777466536, 0.006545380689203739, -0.009329122491180897, -0.03945482149720192, -0.012973413802683353, -0.0026207598857581615, 0.008409901522099972, 0.017484771087765694, -3.651828592410311e-05, -0.0012859326088801026, -0.01730223000049591, 0.019010288640856743, 0.0012834877707064152, 0.0016559030627831817, 0.007555872667580843, 0.009981052950024605, 0.010267902165651321, -0.023991035297513008, 0.005808699410408735, 0.004563512280583382, 0.00886625237762928, -0.015007436275482178, -0.006943057756870985, -0.005026382859796286, 0.0009232963202521205, 0.026298869401216507, 0.007184272166341543, 0.034082915633916855, -0.0017064276617020369, 0.02156585454940796, 0.00605317298322916, 0.008253437466919422, 0.012947335839271545, -0.006916980724781752, -0.010404808446764946, -0.005072018131613731, 0.012875624001026154, -0.012530100531876087, 0.003326474456116557, -0.005365386605262756, 0.014146887697279453, -0.033222369849681854, 0.005521849729120731, -0.008651115000247955, 0.028033003211021423, 0.018423551693558693, 0.007184272166341543, -0.020653152838349342, -0.00033941122819669545, 0.021474584937095642, 0.01648079790174961, 0.0007700927089899778, -0.0034095956943929195, -0.042949169874191284, 0.02195701375603676, 0.010352653451263905, 0.0012875624233856797, 0.003209127113223076, -0.01835835725069046, -0.00794703047722578, -0.025451360270380974, -0.04242762550711632, -0.03403076156973839, 0.04305347800254822, 0.028763165697455406, 0.01326026301831007, 0.021461546421051025, 0.007490679621696472, -0.0065877558663487434, -0.0032726903446018696, -0.010189671069383621, -0.01091983262449503, -0.029701946303248405, 0.01964917965233326, -0.018188856542110443, -0.015555057674646378, -0.010078842751681805, -0.0005174697143957019, -0.00043475604616105556, -0.013964347541332245, -0.007881837897002697, 0.019675256684422493, -0.010033207945525646, 0.026585718616843224, 0.01206723041832447, 0.011050218716263771, -0.009850666858255863, -0.02550351433455944, 0.023638993501663208, 0.033065907657146454, 0.03898543491959572, -0.016024447977542877, 0.015046551823616028, -0.009805032052099705, 0.0025213405024260283, 0.015033513307571411, -0.00917917862534523, -0.024616889655590057, -0.02941509708762169, 0.019284099340438843, 0.007621065713465214, -0.019909951835870743, 0.019323214888572693, 0.009322603233158588, -0.01738046295940876, 0.015098705887794495, -0.016506874933838844, -0.013377610594034195, -0.01326026301831007, 0.004149536602199078, 0.009381277486681938, -0.020496688783168793, -0.018892940133810043, -0.0021269225981086493, -0.0017976978560909629, -0.009211775846779346, -0.0018628909019753337, 0.029362941160798073, -0.027980849146842957, -0.018110623583197594, -0.010007130913436413, -0.010887236334383488, 0.017445655539631844, 0.023834573104977608, -0.011936844326555729, -0.009381277486681938, 0.0015630029374733567, -0.025998981669545174, 0.005557706113904715, 0.010678619146347046, -0.014929204247891903, 0.005414281506091356, 0.005818478297442198, -0.0015687072882428765, 0.025712132453918457, -0.02616848237812519, -0.010026688687503338, -0.017093613743782043, -4.813079158338951e-06, -0.01119364332407713, -0.006265050265938044, 0.013110319152474403, -0.0011547316098585725, -0.025985943153500557, 0.016780685633420944, -0.010137517005205154, 0.009009676985442638, -0.04464418813586235, -0.004651522729545832, 0.004801467061042786, -0.011447896249592304, -0.025790363550186157, -0.00715819513425231, -0.16585107147693634, 0.006916980724781752, 0.013820922933518887, -0.03035387583076954, 0.002446368569508195, 0.012706122361123562, -0.0036573291290551424, -0.010795965790748596, -0.006235713604837656, 0.0007639808463864028, 0.008018743246793747, -0.008638076484203339, -0.017080575227737427, 0.01156524382531643, 0.00032739125890657306, -0.00886625237762928, 0.012640928849577904, 0.02628583088517189, 0.01023530587553978, 0.0012297035427764058, 0.021970052272081375, -0.021474584937095642, -0.009935418143868446, -0.015229091979563236, 0.0026175002567470074, -0.008403382264077663, -0.010952429845929146, 0.001237852731719613, -0.017289191484451294, -0.029597636312246323, -0.012556178495287895, -0.03390037640929222, 0.042714476585388184, 0.012073749676346779, 0.025203626602888107, -0.004589589312672615, 0.010202709585428238, -0.015946215018630028, -0.03332667797803879, 0.029701946303248405, 0.020405419170856476, 0.04795599356293678, 0.03859427571296692, -0.002910868963226676, -0.007640623487532139, 0.017471732571721077, 0.015920137986540794, -0.017250075936317444, 0.015072628855705261, -0.0058119590394198895, 0.035647548735141754, -0.027198532596230507, 0.010730773210525513, -0.003020067233592272, 0.02027503401041031, 0.01279087271541357, -0.002030763076618314, -0.0013617194490507245, 0.007008250802755356, -0.018580013886094093, -0.002540898509323597, 0.01329937856644392, 0.011271875351667404, -0.007086482830345631, -0.02129204384982586, -0.01616787165403366, -0.00960945338010788, 0.010443923994898796, -0.020718345418572426, 0.02542528323829174, -0.0007574615301564336, 0.017002342268824577, -0.014759702607989311, -0.010750330984592438, -0.011356626637279987, 0.010541713796555996, -0.003295507747679949, 0.03129265457391739, 0.018540898337960243, -0.013442803174257278, -0.018971173092722893, 0.007575430441647768, -0.0028228582814335823, 0.013325455598533154, -0.015203014947474003, 0.006265050265938044, 0.009296526201069355, 0.007797086611390114, -0.027902618050575256, -0.024825505912303925, 0.01757604070007801, -0.030640725046396255, 0.00919873733073473, 0.00674747908487916, -0.004719975404441357, 0.012373637408018112, 0.005137211177498102, -0.006652948912233114, 0.012706122361123562, 0.0032889884896576405, -0.006630131509155035, 0.025790363550186157, -0.009250891394913197, 0.002164408564567566, 0.025021085515618324, 0.033535294234752655, -0.00859244167804718, 0.00988326407968998, 0.04472241923213005, -0.0030135479755699635, -0.028059082105755806, -0.0077905673533678055, 0.006665987428277731, 0.003145563881844282, -0.0023192421067506075, 0.02011856995522976, -0.01302556786686182, -0.015255169942975044, 0.01659814640879631, -0.00453091599047184, 0.051111336797475815, 0.00020454314653761685, -0.020679229870438576, 0.031188346445560455, -0.01210634596645832, -0.01202811487019062, -0.09466028213500977, -0.03705571964383125, 0.009954975917935371, 0.04842538386583328, -0.0074841598980128765, 0.02194397523999214, -0.03468269482254982, 0.028372008353471756, -0.03303983062505722, 0.040211062878370285, -0.013182030990719795, -0.02792869508266449, -0.022752368822693825, -0.0023176122922450304, 0.001960680354386568, -0.021148620173335075, -0.019583987072110176, 0.005251298658549786, -0.03264867141842842, 0.021552816033363342, -0.0026191300712525845, 0.012314964085817337, 0.01976652815937996, -0.018332280218601227, -0.0020014261826872826, 0.0001604359713383019, -0.028215544298291206, 0.03397860750555992, 0.017915045842528343, -0.0024154018610715866, 0.00706040533259511, -0.03066680207848549, 0.01765427365899086, -0.023652032017707825, 0.005469695199280977, 0.004671080969274044, 0.009029234759509563, -0.008788020350039005, 0.02280452288687229, -0.008240398950874805, 0.002311093034222722, 0.008188244886696339, 0.008116532117128372, -0.006525822449475527, -0.012647448107600212, -0.003813792485743761, 0.009629011154174805, 0.013455841690301895, 0.01160435937345028, -0.02223082445561886, -0.04792991653084755, -0.014381582848727703, -0.027798309922218323, 0.0036736272741109133, 0.004811245948076248, -0.01200855616480112, 0.016076602041721344, -0.030953651294112206, 0.0015744117554277182, -0.017471732571721077, -0.005287155043333769, -0.003996333107352257, -0.027276765555143356, 0.025320973247289658, 0.02362595498561859, 0.01589406095445156, -0.02597290463745594, -0.024238768965005875, -0.0011612508678808808, -0.008103493601083755, 0.020105531439185143, 0.017797697335481644, -0.004834063351154327, 0.015281246975064278, -0.04094122350215912, -0.002581644104793668, -0.011721706949174404, -0.020261993631720543, 0.008227360434830189, 0.004244066309183836, -0.015046551823616028, -0.0073602935299277306, -0.010424366220831871, -0.021435469388961792, 0.0052121831104159355, 0.0018091066740453243, -0.028606703504920006, -0.005039421375840902, -0.011702149175107479, -0.01545074861496687, 0.011532647535204887, 0.005756544880568981, -0.005485993809998035, -0.007405928336083889, -0.005150249693542719, 0.007066924590617418, -0.010672098957002163, -0.013305897824466228, 0.017915045842528343, 0.013325455598533154, -0.008103493601083755, -0.02217867039144039, -0.039898134768009186, 0.021852703765034676, -0.0032743201591074467, 0.0032205358147621155, 0.0026012021116912365, -0.018658244982361794, 0.0010178262600675225, -0.008683712221682072, 0.0004836508014705032, 0.03572578355669975, -0.01306468341499567, -0.002930426737293601, 0.001848222455009818, 0.0011824385728687048, -0.01214546151459217, -0.01659814640879631, 0.038255270570516586, -0.021305082365870476, 0.0035627991892397404, -0.005450137425214052, 0.019740451127290726, 0.02538616769015789, 0.01968829520046711, -0.005658755078911781, -0.002395843854174018, -0.014342467300593853, -0.01925802230834961, 0.009433431550860405, 0.002614240627735853, -0.009146582335233688, 0.0038203117437660694, -0.022752368822693825, -0.0035888764541596174, 0.02019680105149746, -0.01569848135113716, -0.022908831015229225, 0.01835835725069046, 0.017823774367570877, 0.009303045459091663, 0.034943465143442154, -0.0058315168134868145, -0.040680453181266785, -0.0031732709612697363, -0.012582255527377129, -0.01569848135113716, -0.003944178577512503, -0.009127024561166763, -0.024004073813557625, 0.0013617194490507245, 0.007953549735248089, 0.018332280218601227, 0.010659060440957546, -0.02902393788099289, -0.011682591401040554, -0.024225730448961258, -0.0037681572139263153, 0.010952429845929146, -0.0010316796833649278, 0.008488132618367672, 0.015711521729826927, 0.014551084488630295, 0.021200774237513542, 0.02605113573372364, 0.006975654512643814, -0.00958989467471838, -0.008488132618367672, -0.014877050183713436, 0.005583783145993948, 0.013142915442585945, -0.02152673900127411, -0.007093002088367939, 0.005277376156300306, 0.02007945440709591, 0.013377610594034195, 0.007581949699670076, -0.008859733119606972, -0.0023909544106572866, -0.015033513307571411, -0.030562493950128555, 0.03483915701508522, 0.006753998342901468, -0.009805032052099705, -0.0007240500999614596, 0.008031781762838364, 0.02190485969185829, 0.006851787678897381, -0.004426606930792332, 0.0011148008052259684, 0.023991035297513008, 0.008051339536905289, -0.003745339810848236, 0.01459020096808672, -0.00632698368281126, 0.029389018192887306, -0.00849465187638998, 0.0006246307166293263, -0.019440561532974243, 0.011376184411346912, 0.014199042692780495, 0.014772741124033928, 0.02425180748105049, -0.006903942208737135, 0.006304166279733181, -0.001478252001106739, -0.03546500951051712, 0.006522562820464373, -0.01847570575773716, 0.008664154447615147, 0.004811245948076248, 0.03838565573096275, 0.018723439425230026, 0.015959253534674644, 0.005039421375840902, -0.005065498407930136, -0.03742080181837082, 0.036664560437202454, -0.0046482631005346775, -0.0019541610963642597, -0.03207497298717499, 0.01589406095445156, 0.02444738708436489, 0.0025099318008869886, 0.02988448552787304, -0.016193948686122894, 0.012432311661541462, 0.030093103647232056, 0.015320362523198128, -0.01961006410419941, 0.03184027597308159, 0.0034682692494243383, -0.011043699458241463, -0.013279820792376995, -0.008677192963659763, 0.0071907914243638515, -0.026533564552664757, -0.009928898885846138, -0.011317510157823563, 0.011806458234786987, -0.014459814876317978, 0.07228603214025497, 0.02004033885896206, -0.018775593489408493, -0.011252317577600479, -0.00021126617502886802, 0.00466782134026289, -0.0027870021294802427, 0.01115452777594328, -0.026311907917261124, -0.019362330436706543, -0.0020910664461553097, -2.6230009098071605e-05, -0.011506570503115654, -0.008110012859106064, -0.005984720308333635, -0.009557298384606838, -0.004957930184900761, 0.029780177399516106, 0.01537251751869917, 0.0022475298028439283, 0.026116328313946724, 0.017393501475453377, -0.012314964085817337, 0.016976265236735344, -0.010900274850428104, -0.014446776360273361, 0.01691107265651226, 0.0021953752730041742, 0.006721401587128639, -0.02429092302918434, 0.023834573104977608, 0.0037714168429374695, -0.039428744465112686, -0.025334011763334274, 0.00790791492909193, 0.0015988590894266963, 0.0028293775394558907, -0.017002342268824577, -0.005228481255471706, 0.007875318638980389, 0.009172659367322922, 0.04000244289636612, -0.01175430417060852, -0.034395843744277954, -0.014329428784549236, 0.017993276938796043, -0.017823774367570877, -0.02429092302918434, 0.003297137562185526]\n"
     ]
    }
   ],
   "source": [
    "\n",
    "# Placeholder for OpenAI embeddings (replace with actual API usage)\n",
    "import os\n",
    "from openai import AzureOpenAI\n",
    "client = AzureOpenAI(\n",
    "  api_key = os.getenv(\"AZURE_OPENAI_API_KEY\"),  \n",
    "  api_version = \"2024-02-01\",\n",
    "  azure_endpoint = os.getenv(\"AZURE_OPENAI_ENDPOINT\")\n",
    ")\n",
    "response = client.embeddings.create(input=\"Deep learning is a key technology for AI\", model=\"demo-cosmos-rag-emb\")\n",
    "openai_embedding = response.data[0].embedding\n",
    "print(\"OpenAI Embedding Example (simulated):\", openai_embedding)\n",
    "    "
   ]
  },
  {
   "cell_type": "markdown",
   "id": "fa951a76",
   "metadata": {},
   "source": []
  },
  {
   "cell_type": "markdown",
   "id": "922a0a21",
   "metadata": {},
   "source": [
    "\n",
    "## 7. Conclusion\n",
    "\n",
    "This notebook demonstrates the progression of word embedding techniques, highlighting their strengths and limitations. Advanced embeddings like OpenAI's provide state-of-the-art representations, but simpler methods like Word2Vec are still useful for certain tasks.\n",
    "    "
   ]
  }
 ],
 "metadata": {
  "kernelspec": {
   "display_name": "Python 3",
   "language": "python",
   "name": "python3"
  },
  "language_info": {
   "codemirror_mode": {
    "name": "ipython",
    "version": 3
   },
   "file_extension": ".py",
   "mimetype": "text/x-python",
   "name": "python",
   "nbconvert_exporter": "python",
   "pygments_lexer": "ipython3",
   "version": "3.12.8"
  }
 },
 "nbformat": 4,
 "nbformat_minor": 5
}
